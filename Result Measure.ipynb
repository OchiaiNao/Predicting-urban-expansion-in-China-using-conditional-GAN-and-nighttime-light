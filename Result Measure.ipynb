{
 "cells": [
  {
   "cell_type": "code",
   "execution_count": 4,
   "id": "bdf1e30d",
   "metadata": {},
   "outputs": [
    {
     "name": "stdout",
     "output_type": "stream",
     "text": [
      "SSIM score: 0.9972885151287135\n",
      "PSNR score: 46.48717901385452\n"
     ]
    }
   ],
   "source": [
    "import skimage.metrics as metrics\n",
    "from skimage import io\n",
    "\n",
    "training_data = '/Users/richard/Desktop/Predicting urban expansion in China using deep learning methods and nighttime lights image/Dataset/Training/night_time_'\n",
    "\n",
    "# Load the images\n",
    "image1 = io.imread(training_data + str(4) + '.jpg', as_gray=True)\n",
    "image2 = io.imread(training_data + str(6) + '.jpg', as_gray=True)\n",
    "\n",
    "# Calculate SSIM\n",
    "ssim_score = metrics.structural_similarity(image1, image2)\n",
    "\n",
    "print(\"SSIM score:\", ssim_score)\n",
    "\n",
    "# Calculate PSNR\n",
    "psnr_score = metrics.peak_signal_noise_ratio(image1, image2)\n",
    "\n",
    "print(\"PSNR score:\", psnr_score)"
   ]
  },
  {
   "cell_type": "code",
   "execution_count": null,
   "id": "a57f204f",
   "metadata": {},
   "outputs": [],
   "source": []
  }
 ],
 "metadata": {
  "kernelspec": {
   "display_name": "Python 3 (ipykernel)",
   "language": "python",
   "name": "python3"
  },
  "language_info": {
   "codemirror_mode": {
    "name": "ipython",
    "version": 3
   },
   "file_extension": ".py",
   "mimetype": "text/x-python",
   "name": "python",
   "nbconvert_exporter": "python",
   "pygments_lexer": "ipython3",
   "version": "3.8.0"
  }
 },
 "nbformat": 4,
 "nbformat_minor": 5
}
